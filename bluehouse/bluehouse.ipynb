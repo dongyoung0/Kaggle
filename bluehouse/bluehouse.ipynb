{
  "nbformat": 4,
  "nbformat_minor": 0,
  "metadata": {
    "colab": {
      "name": "bluehouse.ipynb",
      "provenance": [],
      "collapsed_sections": [
        "cS9iWlxJ2BEf"
      ],
      "authorship_tag": "ABX9TyNXObBpMzt8Y919yt8LP+2c",
      "include_colab_link": true
    },
    "kernelspec": {
      "display_name": "Python 3",
      "name": "python3"
    },
    "language_info": {
      "name": "python"
    },
    "accelerator": "GPU"
  },
  "cells": [
    {
      "cell_type": "markdown",
      "metadata": {
        "id": "view-in-github",
        "colab_type": "text"
      },
      "source": [
        "<a href=\"https://colab.research.google.com/github/dongyoung0/Kaggle-Dacon/blob/main/bluehouse/bluehouse.ipynb\" target=\"_parent\"><img src=\"https://colab.research.google.com/assets/colab-badge.svg\" alt=\"Open In Colab\"/></a>"
      ]
    },
    {
      "cell_type": "code",
      "metadata": {
        "colab": {
          "base_uri": "https://localhost:8080/"
        },
        "id": "u7jEgxQwzsSp",
        "outputId": "0a6ce984-b875-4de3-e0b9-3aaf9f042a76"
      },
      "source": [
        "from google.colab import drive\n",
        "drive.mount('./MyDrive')"
      ],
      "execution_count": 2,
      "outputs": [
        {
          "output_type": "stream",
          "name": "stdout",
          "text": [
            "Mounted at ./MyDrive\n"
          ]
        }
      ]
    },
    {
      "cell_type": "code",
      "metadata": {
        "colab": {
          "base_uri": "https://localhost:8080/"
        },
        "id": "jtRr0hJ9C0C7",
        "outputId": "4e443dea-d7ed-4e87-c2c0-484d57de0ef9"
      },
      "source": [
        "!pip install konlpy"
      ],
      "execution_count": 3,
      "outputs": [
        {
          "output_type": "stream",
          "name": "stdout",
          "text": [
            "Collecting konlpy\n",
            "  Downloading konlpy-0.5.2-py2.py3-none-any.whl (19.4 MB)\n",
            "\u001b[K     |████████████████████████████████| 19.4 MB 1.3 MB/s \n",
            "\u001b[?25hRequirement already satisfied: lxml>=4.1.0 in /usr/local/lib/python3.7/dist-packages (from konlpy) (4.2.6)\n",
            "Requirement already satisfied: numpy>=1.6 in /usr/local/lib/python3.7/dist-packages (from konlpy) (1.19.5)\n",
            "Requirement already satisfied: tweepy>=3.7.0 in /usr/local/lib/python3.7/dist-packages (from konlpy) (3.10.0)\n",
            "Collecting beautifulsoup4==4.6.0\n",
            "  Downloading beautifulsoup4-4.6.0-py3-none-any.whl (86 kB)\n",
            "\u001b[K     |████████████████████████████████| 86 kB 6.1 MB/s \n",
            "\u001b[?25hCollecting colorama\n",
            "  Downloading colorama-0.4.4-py2.py3-none-any.whl (16 kB)\n",
            "Collecting JPype1>=0.7.0\n",
            "  Downloading JPype1-1.3.0-cp37-cp37m-manylinux_2_5_x86_64.manylinux1_x86_64.whl (448 kB)\n",
            "\u001b[K     |████████████████████████████████| 448 kB 53.5 MB/s \n",
            "\u001b[?25hRequirement already satisfied: typing-extensions in /usr/local/lib/python3.7/dist-packages (from JPype1>=0.7.0->konlpy) (3.7.4.3)\n",
            "Requirement already satisfied: six>=1.10.0 in /usr/local/lib/python3.7/dist-packages (from tweepy>=3.7.0->konlpy) (1.15.0)\n",
            "Requirement already satisfied: requests[socks]>=2.11.1 in /usr/local/lib/python3.7/dist-packages (from tweepy>=3.7.0->konlpy) (2.23.0)\n",
            "Requirement already satisfied: requests-oauthlib>=0.7.0 in /usr/local/lib/python3.7/dist-packages (from tweepy>=3.7.0->konlpy) (1.3.0)\n",
            "Requirement already satisfied: oauthlib>=3.0.0 in /usr/local/lib/python3.7/dist-packages (from requests-oauthlib>=0.7.0->tweepy>=3.7.0->konlpy) (3.1.1)\n",
            "Requirement already satisfied: urllib3!=1.25.0,!=1.25.1,<1.26,>=1.21.1 in /usr/local/lib/python3.7/dist-packages (from requests[socks]>=2.11.1->tweepy>=3.7.0->konlpy) (1.24.3)\n",
            "Requirement already satisfied: chardet<4,>=3.0.2 in /usr/local/lib/python3.7/dist-packages (from requests[socks]>=2.11.1->tweepy>=3.7.0->konlpy) (3.0.4)\n",
            "Requirement already satisfied: certifi>=2017.4.17 in /usr/local/lib/python3.7/dist-packages (from requests[socks]>=2.11.1->tweepy>=3.7.0->konlpy) (2021.5.30)\n",
            "Requirement already satisfied: idna<3,>=2.5 in /usr/local/lib/python3.7/dist-packages (from requests[socks]>=2.11.1->tweepy>=3.7.0->konlpy) (2.10)\n",
            "Requirement already satisfied: PySocks!=1.5.7,>=1.5.6 in /usr/local/lib/python3.7/dist-packages (from requests[socks]>=2.11.1->tweepy>=3.7.0->konlpy) (1.7.1)\n",
            "Installing collected packages: JPype1, colorama, beautifulsoup4, konlpy\n",
            "  Attempting uninstall: beautifulsoup4\n",
            "    Found existing installation: beautifulsoup4 4.6.3\n",
            "    Uninstalling beautifulsoup4-4.6.3:\n",
            "      Successfully uninstalled beautifulsoup4-4.6.3\n",
            "Successfully installed JPype1-1.3.0 beautifulsoup4-4.6.0 colorama-0.4.4 konlpy-0.5.2\n"
          ]
        }
      ]
    },
    {
      "cell_type": "code",
      "metadata": {
        "id": "DYIZRxUiC2VX"
      },
      "source": [
        "import pandas as pd\n",
        "import urllib.request\n",
        "%matplotlib inline\n",
        "import matplotlib.pyplot as plt\n",
        "import re\n",
        "from konlpy.tag import Okt\n",
        "from tensorflow.keras.preprocessing.text import Tokenizer\n",
        "import numpy as np\n",
        "from tensorflow.keras.preprocessing.sequence import pad_sequences\n",
        "import os\n",
        "import csv\n",
        "from tensorflow.keras.datasets import reuters\n",
        "from tensorflow.keras.models import Sequential\n",
        "from tensorflow.keras.layers import Dense, LSTM, Embedding\n",
        "from tensorflow.keras.preprocessing.sequence import pad_sequences\n",
        "from tensorflow.keras.utils import to_categorical\n",
        "from tensorflow.keras.models import load_model\n",
        "from tqdm import tqdm"
      ],
      "execution_count": 4,
      "outputs": []
    },
    {
      "cell_type": "code",
      "metadata": {
        "id": "gAaS0qKi1m3U"
      },
      "source": [
        "def save_csv(path, data):\n",
        "  with open(path, 'w',newline='', encoding='utf-8-sig') as f:   \n",
        "    # using csv.writer method from CSV package \n",
        "    write = csv.writer(f) \n",
        "    #write.writerow(fields) \n",
        "    write.writerows(data)\n",
        "\n",
        "def load_csv(path):\n",
        "  load_list = []\n",
        "  f =  open(path, 'r', encoding='utf-8')\n",
        "  reader = csv.reader(f) \n",
        "  for row in reader:\n",
        "    load_list.append(row)\n",
        "  f.close()\n",
        "  return load_list"
      ],
      "execution_count": 5,
      "outputs": []
    },
    {
      "cell_type": "code",
      "metadata": {
        "id": "lWkJhCmeC7d5"
      },
      "source": [
        "train = pd.read_csv('./MyDrive/MyDrive/DACON/bluehouse/data/train.csv', encoding = 'utf-8')\n",
        "test = pd.read_csv('./MyDrive/MyDrive/DACON/bluehouse/data/test.csv', encoding = 'utf-8')\n",
        "sample_submission = pd.read_csv('./MyDrive/MyDrive/DACON/bluehouse/data/sample_submission.csv', encoding = 'utf-8')"
      ],
      "execution_count": 6,
      "outputs": []
    },
    {
      "cell_type": "code",
      "metadata": {
        "colab": {
          "base_uri": "https://localhost:8080/",
          "height": 295
        },
        "id": "kpnFKUvTC_dj",
        "outputId": "864b323f-72db-4f91-b288-c56780a2a7f8"
      },
      "source": [
        "train[train['data'].isnull()]"
      ],
      "execution_count": 23,
      "outputs": [
        {
          "output_type": "execute_result",
          "data": {
            "text/html": [
              "<div>\n",
              "<style scoped>\n",
              "    .dataframe tbody tr th:only-of-type {\n",
              "        vertical-align: middle;\n",
              "    }\n",
              "\n",
              "    .dataframe tbody tr th {\n",
              "        vertical-align: top;\n",
              "    }\n",
              "\n",
              "    .dataframe thead th {\n",
              "        text-align: right;\n",
              "    }\n",
              "</style>\n",
              "<table border=\"1\" class=\"dataframe\">\n",
              "  <thead>\n",
              "    <tr style=\"text-align: right;\">\n",
              "      <th></th>\n",
              "      <th>index</th>\n",
              "      <th>category</th>\n",
              "      <th>data</th>\n",
              "    </tr>\n",
              "  </thead>\n",
              "  <tbody>\n",
              "    <tr>\n",
              "      <th>2819</th>\n",
              "      <td>2819</td>\n",
              "      <td>0</td>\n",
              "      <td>NaN</td>\n",
              "    </tr>\n",
              "    <tr>\n",
              "      <th>3462</th>\n",
              "      <td>3462</td>\n",
              "      <td>1</td>\n",
              "      <td>NaN</td>\n",
              "    </tr>\n",
              "    <tr>\n",
              "      <th>20934</th>\n",
              "      <td>20934</td>\n",
              "      <td>2</td>\n",
              "      <td>NaN</td>\n",
              "    </tr>\n",
              "    <tr>\n",
              "      <th>22856</th>\n",
              "      <td>22856</td>\n",
              "      <td>2</td>\n",
              "      <td>NaN</td>\n",
              "    </tr>\n",
              "    <tr>\n",
              "      <th>26550</th>\n",
              "      <td>26550</td>\n",
              "      <td>2</td>\n",
              "      <td>NaN</td>\n",
              "    </tr>\n",
              "    <tr>\n",
              "      <th>28546</th>\n",
              "      <td>28546</td>\n",
              "      <td>2</td>\n",
              "      <td>NaN</td>\n",
              "    </tr>\n",
              "    <tr>\n",
              "      <th>31400</th>\n",
              "      <td>31400</td>\n",
              "      <td>1</td>\n",
              "      <td>NaN</td>\n",
              "    </tr>\n",
              "    <tr>\n",
              "      <th>36070</th>\n",
              "      <td>36070</td>\n",
              "      <td>0</td>\n",
              "      <td>NaN</td>\n",
              "    </tr>\n",
              "  </tbody>\n",
              "</table>\n",
              "</div>"
            ],
            "text/plain": [
              "       index  category data\n",
              "2819    2819         0  NaN\n",
              "3462    3462         1  NaN\n",
              "20934  20934         2  NaN\n",
              "22856  22856         2  NaN\n",
              "26550  26550         2  NaN\n",
              "28546  28546         2  NaN\n",
              "31400  31400         1  NaN\n",
              "36070  36070         0  NaN"
            ]
          },
          "metadata": {},
          "execution_count": 23
        }
      ]
    },
    {
      "cell_type": "code",
      "metadata": {
        "id": "e5sTkovlDM4M"
      },
      "source": [
        "# 전처리"
      ],
      "execution_count": 8,
      "outputs": []
    },
    {
      "cell_type": "markdown",
      "metadata": {
        "id": "cS9iWlxJ2BEf"
      },
      "source": [
        "## 전처리\n",
        "아래 과정을 실행한 결과를 train_okt.csv, test_okt.csv에 저장해 놨음  \n",
        "load_csv로 불러다 쓰면 댐"
      ]
    },
    {
      "cell_type": "code",
      "metadata": {
        "id": "t6tAjvFLDazv",
        "colab": {
          "base_uri": "https://localhost:8080/"
        },
        "outputId": "d6f619d1-e3f1-499e-e3b1-244a1a470599"
      },
      "source": [
        "train = train.dropna(how = 'any')\n",
        "train['data'] = train['data'].str.replace(\"[^ㄱ-ㅎㅏ-ㅣ가-힣 ]\",\"\")\n",
        "test['data'] = test['data'].str.replace(\"[^ㄱ-ㅎㅏ-ㅣ가-힣 ]\",\"\")\n",
        "stopwords = ['의','가','이','은','들','는','좀','잘','걍','과','도','를','으로','자','에','와','한','하다','을']"
      ],
      "execution_count": 9,
      "outputs": [
        {
          "output_type": "stream",
          "name": "stderr",
          "text": [
            "/usr/local/lib/python3.7/dist-packages/ipykernel_launcher.py:2: SettingWithCopyWarning: \n",
            "A value is trying to be set on a copy of a slice from a DataFrame.\n",
            "Try using .loc[row_indexer,col_indexer] = value instead\n",
            "\n",
            "See the caveats in the documentation: https://pandas.pydata.org/pandas-docs/stable/user_guide/indexing.html#returning-a-view-versus-a-copy\n",
            "  \n"
          ]
        }
      ]
    },
    {
      "cell_type": "code",
      "metadata": {
        "id": "KkeazwCnDcEI"
      },
      "source": [
        "okt=Okt()"
      ],
      "execution_count": 10,
      "outputs": []
    },
    {
      "cell_type": "code",
      "metadata": {
        "colab": {
          "base_uri": "https://localhost:8080/"
        },
        "id": "OVw-baNUDdy4",
        "outputId": "367d4b9a-da9d-4550-934d-afd5a3536a24"
      },
      "source": [
        "X_train = []\n",
        "for sentence,i in zip(train['data'],tqdm(range(len(train['data'])))) :\n",
        "    temp_X = []\n",
        "    temp_X = okt.morphs(sentence, stem=True)\n",
        "    temp_X = [word for word in temp_X if not word in stopwords]\n",
        "    X_train.append(temp_X)"
      ],
      "execution_count": 11,
      "outputs": [
        {
          "output_type": "stream",
          "name": "stderr",
          "text": [
            "100%|█████████▉| 39991/39992 [43:03<00:00, 15.48it/s]\n"
          ]
        }
      ]
    },
    {
      "cell_type": "code",
      "metadata": {
        "id": "7Xvh_gzMDe3b"
      },
      "source": [
        "X_test = []\n",
        "for sentence in test['data']:\n",
        "    temp_X = []\n",
        "    temp_X = okt.morphs(sentence, stem=True)\n",
        "    temp_X = [word for word in temp_X if not word in stopwords]\n",
        "    X_test.append(temp_X)"
      ],
      "execution_count": 19,
      "outputs": []
    },
    {
      "cell_type": "code",
      "metadata": {
        "id": "BqDzaY2r0SCb"
      },
      "source": [
        ""
      ],
      "execution_count": 57,
      "outputs": []
    },
    {
      "cell_type": "code",
      "metadata": {
        "id": "5F8RwFsS0xQR"
      },
      "source": [
        "save_csv('./MyDrive/MyDrive/DACON/bluehouse/data/train_okt.csv', X_train)\n",
        "save_csv('./MyDrive/MyDrive/DACON/bluehouse/data/test_okt.csv', X_test)"
      ],
      "execution_count": 60,
      "outputs": []
    },
    {
      "cell_type": "markdown",
      "metadata": {
        "id": "wj_wZEub2aER"
      },
      "source": [
        "## 불러오기\n",
        "위에서 okt로 전처리한 train, test 데이터 불러오기"
      ]
    },
    {
      "cell_type": "code",
      "metadata": {
        "id": "_kE0xB5Y057V"
      },
      "source": [
        "X_train = load_csv('./MyDrive/MyDrive/DACON/bluehouse/data/train_okt.csv')\n",
        "X_test = load_csv('./MyDrive/MyDrive/DACON/bluehouse/data/test_okt.csv')"
      ],
      "execution_count": 31,
      "outputs": []
    },
    {
      "cell_type": "code",
      "metadata": {
        "id": "bP5aYPR7Dg0o"
      },
      "source": [
        "tokenizer = Tokenizer()\n",
        "tokenizer.fit_on_texts(X_train)"
      ],
      "execution_count": 32,
      "outputs": []
    },
    {
      "cell_type": "code",
      "metadata": {
        "id": "s7jYm2anDg4-"
      },
      "source": [
        "vocab_size = 30000\n",
        "tokenizer = Tokenizer(vocab_size) \n",
        "tokenizer.fit_on_texts(X_train)\n",
        "X_train = tokenizer.texts_to_sequences(X_train)\n",
        "X_test = tokenizer.texts_to_sequences(X_test)"
      ],
      "execution_count": 33,
      "outputs": []
    },
    {
      "cell_type": "code",
      "metadata": {
        "id": "guY6tibRDg7n"
      },
      "source": [
        "max_len = 500\n",
        "X_train = pad_sequences(X_train, maxlen = max_len)\n",
        "X_test = pad_sequences(X_test, maxlen = max_len)"
      ],
      "execution_count": 34,
      "outputs": []
    },
    {
      "cell_type": "code",
      "metadata": {
        "id": "KVRIxRlpDg-D"
      },
      "source": [
        "# 결측치는 일단 제외하고 훈련\n",
        "y_train = to_categorical(train['category'][train['data'].isnull()==False])"
      ],
      "execution_count": 35,
      "outputs": []
    },
    {
      "cell_type": "code",
      "metadata": {
        "id": "lY2rC_9nDhAb"
      },
      "source": [
        "# 모델 생성 및 훈련"
      ],
      "execution_count": 36,
      "outputs": []
    },
    {
      "cell_type": "code",
      "metadata": {
        "id": "8lA1e0guDmVB",
        "colab": {
          "base_uri": "https://localhost:8080/"
        },
        "outputId": "ff6daf06-925c-4998-b6dd-2a049e585a84"
      },
      "source": [
        "model = Sequential()\n",
        "model.add(Embedding(vocab_size, 120))\n",
        "model.add(LSTM(120))\n",
        "model.add(Dense(3, activation='softmax'))\n",
        "\n",
        "model.compile(loss='categorical_crossentropy', optimizer='adam', metrics=['acc'])\n",
        "\n",
        "history = model.fit(X_train, y_train, batch_size=128, epochs=15)"
      ],
      "execution_count": 37,
      "outputs": [
        {
          "output_type": "stream",
          "name": "stdout",
          "text": [
            "Epoch 1/15\n",
            "313/313 [==============================] - 40s 108ms/step - loss: 0.7793 - acc: 0.6741\n",
            "Epoch 2/15\n",
            "313/313 [==============================] - 33s 106ms/step - loss: 0.4146 - acc: 0.8451\n",
            "Epoch 3/15\n",
            "313/313 [==============================] - 33s 107ms/step - loss: 0.2547 - acc: 0.9076\n",
            "Epoch 4/15\n",
            "313/313 [==============================] - 33s 107ms/step - loss: 0.1912 - acc: 0.9318\n",
            "Epoch 5/15\n",
            "313/313 [==============================] - 33s 106ms/step - loss: 0.1515 - acc: 0.9454\n",
            "Epoch 6/15\n",
            "313/313 [==============================] - 33s 106ms/step - loss: 0.1271 - acc: 0.9538\n",
            "Epoch 7/15\n",
            "313/313 [==============================] - 33s 106ms/step - loss: 0.1169 - acc: 0.9564\n",
            "Epoch 8/15\n",
            "313/313 [==============================] - 33s 106ms/step - loss: 0.1069 - acc: 0.9614\n",
            "Epoch 9/15\n",
            "313/313 [==============================] - 33s 106ms/step - loss: 0.1085 - acc: 0.9604\n",
            "Epoch 10/15\n",
            "313/313 [==============================] - 33s 107ms/step - loss: 0.0938 - acc: 0.9675\n",
            "Epoch 11/15\n",
            "313/313 [==============================] - 33s 107ms/step - loss: 0.0786 - acc: 0.9703\n",
            "Epoch 12/15\n",
            "313/313 [==============================] - 34s 107ms/step - loss: 0.1549 - acc: 0.9519\n",
            "Epoch 13/15\n",
            "313/313 [==============================] - 33s 107ms/step - loss: 0.0812 - acc: 0.9701\n",
            "Epoch 14/15\n",
            "313/313 [==============================] - 33s 106ms/step - loss: 0.0605 - acc: 0.9785\n",
            "Epoch 15/15\n",
            "313/313 [==============================] - 33s 107ms/step - loss: 0.0690 - acc: 0.9760\n"
          ]
        }
      ]
    },
    {
      "cell_type": "code",
      "metadata": {
        "id": "3vQfB1XnDmXX"
      },
      "source": [
        "#6. 훈련된 모델로 예측, submission 파일을 생성합니다."
      ],
      "execution_count": null,
      "outputs": []
    },
    {
      "cell_type": "code",
      "metadata": {
        "colab": {
          "base_uri": "https://localhost:8080/"
        },
        "id": "VoJ2xtqi67PK",
        "outputId": "42b2ccdd-af77-45e8-ec8b-88da16636919"
      },
      "source": [
        "model.p"
      ],
      "execution_count": 39,
      "outputs": [
        {
          "output_type": "execute_result",
          "data": {
            "text/plain": [
              "<keras.engine.sequential.Sequential at 0x7fee3019e950>"
            ]
          },
          "metadata": {},
          "execution_count": 39
        }
      ]
    },
    {
      "cell_type": "code",
      "metadata": {
        "id": "7tGQ0p8kDmaE"
      },
      "source": [
        "#6. 훈련된 모델로 예측, submission 파일을 생성합니다.\n",
        "\n",
        "#y_pred = model.predict_classes(X_test)\n",
        "y_pred=model.predict(X_test) "
      ],
      "execution_count": 41,
      "outputs": []
    },
    {
      "cell_type": "code",
      "metadata": {
        "id": "2WQVLc_p8oAV"
      },
      "source": [
        "\n",
        "#sample_submission['category'] = y_pred\n",
        "sample_submission['category'] = y_pred.argmax(axis=1)\n",
        "sample_submission.to_csv('./MyDrive/MyDrive/DACON/bluehouse/data/sub2.csv', encoding='utf-8', index = False)"
      ],
      "execution_count": 57,
      "outputs": []
    },
    {
      "cell_type": "code",
      "metadata": {
        "id": "act8OMdCDmcb",
        "colab": {
          "base_uri": "https://localhost:8080/"
        },
        "outputId": "ef087e32-20da-484d-80b1-668eb48d1753"
      },
      "source": [
        "y_pred"
      ],
      "execution_count": 43,
      "outputs": [
        {
          "output_type": "execute_result",
          "data": {
            "text/plain": [
              "array([[8.6823744e-01, 3.1087143e-04, 1.3145159e-01],\n",
              "       [4.4585625e-04, 2.5446725e-05, 9.9952877e-01],\n",
              "       [9.6713775e-06, 9.9998868e-01, 1.7113066e-06],\n",
              "       ...,\n",
              "       [4.1019652e-05, 9.9994206e-01, 1.6893631e-05],\n",
              "       [9.9982339e-01, 1.3088658e-04, 4.5717396e-05],\n",
              "       [9.2722642e-01, 3.6093870e-03, 6.9164202e-02]], dtype=float32)"
            ]
          },
          "metadata": {},
          "execution_count": 43
        }
      ]
    },
    {
      "cell_type": "code",
      "metadata": {
        "colab": {
          "base_uri": "https://localhost:8080/"
        },
        "id": "C2seLRlE7ezF",
        "outputId": "19b87c2f-e622-4f37-d680-614e08fbe715"
      },
      "source": [
        "model.save('./MyDrive/MyDrive/DACON/bluehouse/model1')"
      ],
      "execution_count": 45,
      "outputs": [
        {
          "output_type": "stream",
          "name": "stderr",
          "text": [
            "WARNING:absl:Found untraced functions such as lstm_cell_2_layer_call_fn, lstm_cell_2_layer_call_and_return_conditional_losses, lstm_cell_2_layer_call_fn, lstm_cell_2_layer_call_and_return_conditional_losses, lstm_cell_2_layer_call_and_return_conditional_losses while saving (showing 5 of 5). These functions will not be directly callable after loading.\n"
          ]
        },
        {
          "output_type": "stream",
          "name": "stdout",
          "text": [
            "INFO:tensorflow:Assets written to: ./MyDrive/MyDrive/DACON/bluehouse/model1/assets\n"
          ]
        },
        {
          "output_type": "stream",
          "name": "stderr",
          "text": [
            "INFO:tensorflow:Assets written to: ./MyDrive/MyDrive/DACON/bluehouse/model1/assets\n"
          ]
        }
      ]
    },
    {
      "cell_type": "code",
      "metadata": {
        "id": "HfXI36pw8gVC"
      },
      "source": [
        ""
      ],
      "execution_count": null,
      "outputs": []
    }
  ]
}